{
  "cells": [
    {
      "cell_type": "markdown",
      "metadata": {
        "id": "yUyO_AQsRqDO"
      },
      "source": [
        "**AI-Powered Market Trend Analysis for Amazon Products**"
      ]
    },
    {
      "cell_type": "code",
      "execution_count": null,
      "metadata": {
        "colab": {
          "base_uri": "https://localhost:8080/"
        },
        "id": "wqZ1b05HQvRi",
        "outputId": "d3aa6da1-a0a2-4d78-8ed7-9913f44193e3"
      },
      "outputs": [],
      "source": [
        "%pip install kagglehub\n",
        "\n",
        "import kagglehub # type: ignore\n",
        "\n",
        "path = kagglehub.dataset_download(\"ssrai7/amazon-global-sales-and-review-data\")\n",
        "\n",
        "print(\"Path to dataset files:\", path)"
      ]
    },
    {
      "cell_type": "code",
      "execution_count": null,
      "metadata": {
        "colab": {
          "base_uri": "https://localhost:8080/"
        },
        "id": "v-Wg-R4ZRiKV",
        "outputId": "808f5a31-2929-4d1e-c1fe-f4b006144cc0"
      },
      "outputs": [],
      "source": [
        "import os\n",
        "\n",
        "for filename in os.listdir(path):\n",
        "    print(filename)"
      ]
    },
    {
      "cell_type": "code",
      "execution_count": null,
      "metadata": {
        "id": "oArtobjUraGk"
      },
      "outputs": [],
      "source": [
        "import matplotlib.pyplot as plt"
      ]
    },
    {
      "cell_type": "code",
      "execution_count": null,
      "metadata": {
        "colab": {
          "base_uri": "https://localhost:8080/",
          "height": 363
        },
        "id": "Rn2o6pfpUlz2",
        "outputId": "a85b6d78-4cc0-4a51-ca07-0c37a8b8eedb"
      },
      "outputs": [],
      "source": [
        "import pandas as pd\n",
        "\n",
        "excel_file_path = os.path.join(path, \"Amazon_Combined_Data.xlsx\")\n",
        "df = pd.read_excel(excel_file_path)\n",
        "display(df.head(10))"
      ]
    },
    {
      "cell_type": "code",
      "execution_count": null,
      "metadata": {
        "colab": {
          "base_uri": "https://localhost:8080/"
        },
        "id": "-0MxmYKRUvEQ",
        "outputId": "20b3079f-071f-449c-f8a6-946c89fc14dc"
      },
      "outputs": [],
      "source": [
        "df.info()\n"
      ]
    },
    {
      "cell_type": "markdown",
      "metadata": {
        "id": "w_c5rt-LVree"
      },
      "source": [
        "Referings: We can use Price and Number of reviews for regression analysis, while\n",
        "Product category and all other objects in classification tasks"
      ]
    },
    {
      "cell_type": "code",
      "execution_count": null,
      "metadata": {
        "colab": {
          "base_uri": "https://localhost:8080/",
          "height": 300
        },
        "id": "KyHCQ7toVaRk",
        "outputId": "c33bd1b0-1f65-4336-9654-0d6467965d66"
      },
      "outputs": [],
      "source": [
        "df.describe()"
      ]
    },
    {
      "cell_type": "code",
      "execution_count": null,
      "metadata": {
        "colab": {
          "base_uri": "https://localhost:8080/"
        },
        "id": "UNSIRJtJWSAU",
        "outputId": "e6768755-b138-485e-eed1-4c80c503ee1f"
      },
      "outputs": [],
      "source": [
        "# Splitting Shipment-> 'Shipment Location' and 'Shipment Date'\n",
        "df[['Shipment Location', 'Shipment Date']] = df['Shipment'].str.split(' ', n=3, expand=True).iloc[:, [2, 3]]\n",
        "\n",
        "df['Shipment Date'] = pd.to_datetime(df['Shipment Date'], errors='coerce')\n"
      ]
    },
    {
      "cell_type": "code",
      "execution_count": null,
      "metadata": {
        "colab": {
          "base_uri": "https://localhost:8080/",
          "height": 206
        },
        "id": "UQM001WDe9e8",
        "outputId": "57deb8b5-d35a-4cac-affc-639bd330d9a2"
      },
      "outputs": [],
      "source": [
        "price_bins = [0, 20, 50, 100, 200, 500, 1000, df['Price(Dollar)'].max()]\n",
        "price_labels = ['0-20', '21-50', '51-100', '101-200', '201-500', '501-1000', '1000+']\n",
        "df['Price Bin'] = pd.cut(df['Price(Dollar)'], bins=price_bins, labels=price_labels, right=False)\n",
        "\n",
        "df = df.drop('Shipment', axis=1)\n",
        "\n",
        "display(df.head())"
      ]
    },
    {
      "cell_type": "code",
      "execution_count": null,
      "metadata": {
        "colab": {
          "base_uri": "https://localhost:8080/"
        },
        "id": "MT4U-awvfSL3",
        "outputId": "7c4b0d95-c534-4fbd-a934-630d3de0b670"
      },
      "outputs": [],
      "source": [
        "print(\"Missing values before handling:\\n\", df.isnull().sum())\n"
      ]
    },
    {
      "cell_type": "code",
      "execution_count": null,
      "metadata": {
        "colab": {
          "base_uri": "https://localhost:8080/"
        },
        "id": "E_VuAR7Sfx5q",
        "outputId": "1ca11e4a-c3e7-441c-ee0a-cc994afb33cf"
      },
      "outputs": [],
      "source": [
        "Q1_price = df['Price(Dollar)'].quantile(0.25)\n",
        "Q3_price = df['Price(Dollar)'].quantile(0.75)\n",
        "IQR_price = Q3_price - Q1_price\n",
        "lower_bound_price = Q1_price - 1.5 * IQR_price\n",
        "upper_bound_price = Q3_price + 1.5 * IQR_price\n",
        "df = df[(df['Price(Dollar)'] >= lower_bound_price) & (df['Price(Dollar)'] <= upper_bound_price)]\n",
        "\n",
        "\n",
        "Q1_reviews = df['Number of  reviews'].quantile(0.25)\n",
        "Q3_reviews = df['Number of  reviews'].quantile(0.75)\n",
        "IQR_reviews = Q3_reviews - Q1_reviews\n",
        "lower_bound_reviews = Q1_reviews - 1.5 * IQR_reviews\n",
        "upper_bound_reviews = Q3_reviews + 1.5 * IQR_reviews\n",
        "df = df[(df['Number of  reviews'] >= lower_bound_reviews) & (df['Number of  reviews'] <= upper_bound_reviews)]\n",
        "\n",
        "\n",
        "print(\"\\nNumber of duplicate rows before handling:\", df.duplicated().sum())\n",
        "\n"
      ]
    },
    {
      "cell_type": "code",
      "execution_count": null,
      "metadata": {
        "id": "acHcyRwyf2Te"
      },
      "outputs": [],
      "source": [
        "df.drop_duplicates(inplace=True)"
      ]
    },
    {
      "cell_type": "code",
      "execution_count": null,
      "metadata": {
        "colab": {
          "base_uri": "https://localhost:8080/"
        },
        "id": "qrTy1LP3f5Qt",
        "outputId": "e2674bd8-f6b9-42fd-9de6-0740336c7e13"
      },
      "outputs": [],
      "source": [
        "print(\"Missing values after handling:\\n\", df.isnull().sum())"
      ]
    },
    {
      "cell_type": "code",
      "execution_count": null,
      "metadata": {
        "colab": {
          "base_uri": "https://localhost:8080/"
        },
        "id": "saWzAXluf80d",
        "outputId": "8367ab75-759b-4f2e-db2a-db721467d302"
      },
      "outputs": [],
      "source": [
        "print(\"Number of duplicate rows after handling:\", df.duplicated().sum())"
      ]
    },
    {
      "cell_type": "code",
      "execution_count": null,
      "metadata": {
        "colab": {
          "base_uri": "https://localhost:8080/",
          "height": 261
        },
        "id": "18135166",
        "outputId": "3796c3b0-71b1-428a-afba-7364c9c7b74f"
      },
      "outputs": [],
      "source": [
        "features = ['Price(Dollar)', 'Number of  reviews', 'Product Category', 'Shipment Location', 'Price Bin']\n",
        "df_features = df[features].copy()\n",
        "\n",
        "# one-hot encoding for categorical features\n",
        "df_features = pd.get_dummies(df_features, columns=['Product Category', 'Shipment Location', 'Price Bin'], dummy_na=False)\n",
        "\n",
        "display(df_features.head())"
      ]
    },
    {
      "cell_type": "code",
      "execution_count": null,
      "metadata": {
        "colab": {
          "base_uri": "https://localhost:8080/",
          "height": 206
        },
        "id": "C9KnKkgZmiNd",
        "outputId": "46df3004-7df6-4627-9759-be9dbbd6de3d"
      },
      "outputs": [],
      "source": [
        "df['Order Date'] = pd.to_datetime(df['Order Date'])\n",
        "daily_sales = df.groupby('Order Date')['Price(Dollar)'].sum().reset_index()\n",
        "display(daily_sales.head())\n"
      ]
    },
    {
      "cell_type": "code",
      "execution_count": null,
      "metadata": {
        "colab": {
          "base_uri": "https://localhost:8080/",
          "height": 564
        },
        "id": "BHhSH6virgMk",
        "outputId": "071cd81e-348c-4bec-bed6-74ef5289e576"
      },
      "outputs": [],
      "source": [
        "plt.figure(figsize=(12, 6))\n",
        "plt.plot(daily_sales['Order Date'], daily_sales['Price(Dollar)'])\n",
        "plt.title('Daily Sales Trend')\n",
        "plt.xlabel('Date')\n",
        "plt.ylabel('Total Sales (Dollar)')\n",
        "plt.grid(True)\n",
        "plt.show()"
      ]
    },
    {
      "cell_type": "markdown",
      "metadata": {
        "id": "Qm-zPeMjsgQN"
      },
      "source": [
        "Observations:\n",
        "\n",
        "\n",
        "1.   The plot shows the daily total sales in dollars over a period from early 2019 to late 2022.\n",
        "2.   There is a noticeable upward trend in sales over the years, although there are fluctuations.\n",
        "3. Several significant spikes in sales are visible throughout the time period, indicating days with unusually high sales.\n",
        "4. The sales appear to be seasonal, with some periods showing higher variability or consistent peaks.\n",
        "\n"
      ]
    },
    {
      "cell_type": "code",
      "execution_count": null,
      "metadata": {
        "colab": {
          "base_uri": "https://localhost:8080/",
          "height": 300
        },
        "id": "0b6d1eab",
        "outputId": "a9da0c2b-6584-4b4a-816b-6e777674728d"
      },
      "outputs": [],
      "source": [
        "category_performance = df.groupby('Product Category').agg(\n",
        "    Total_Sales=('Price(Dollar)', 'sum'),\n",
        "    Average_Reviews=('Number of  reviews', 'mean')\n",
        ").reset_index()\n",
        "\n",
        "category_performance = category_performance.sort_values(by='Total_Sales', ascending=False)\n",
        "\n",
        "display(category_performance)"
      ]
    },
    {
      "cell_type": "code",
      "execution_count": null,
      "metadata": {
        "colab": {
          "base_uri": "https://localhost:8080/",
          "height": 1000
        },
        "id": "Be452Ke0vwxu",
        "outputId": "fe45783e-45ec-45f7-c31e-c94d31167b81"
      },
      "outputs": [],
      "source": [
        "\n",
        "plt.figure(figsize=(10,6))\n",
        "plt.bar(category_performance['Product Category'], category_performance['Total_Sales'])\n",
        "plt.title('Total Sales by Product Category')\n",
        "plt.xlabel('Product Category')\n",
        "plt.ylabel('Total Sales (Dollar)')\n",
        "plt.xticks(rotation=45, ha='right')\n",
        "plt.tight_layout()\n",
        "plt.show()\n",
        "\n",
        "plt.figure(figsize=(10,6))\n",
        "plt.bar(category_performance['Product Category'], category_performance['Average_Reviews'])\n",
        "plt.title('Average Reviews by Product Category')\n",
        "plt.xlabel('Product Category')\n",
        "plt.ylabel('Average Number of Reviews')\n",
        "plt.xticks(rotation=45, ha='right')\n",
        "plt.tight_layout()\n",
        "plt.show()"
      ]
    },
    {
      "cell_type": "markdown",
      "metadata": {
        "id": "9CLPUVOXviN3"
      },
      "source": [
        "\n",
        "> we could identify product categories that have high total sales but relatively lower average reviews, which might indicate areas for product improvement or marketing focus. Conversely, categories with high average reviews but lower sales could benefit from increased visibility or promotional efforts.\n",
        "\n"
      ]
    },
    {
      "cell_type": "code",
      "execution_count": null,
      "metadata": {
        "colab": {
          "base_uri": "https://localhost:8080/",
          "height": 1000
        },
        "id": "SwTixkRFYQCN",
        "outputId": "8a57edfe-f14e-4d3c-d213-c02b804aadb0"
      },
      "outputs": [],
      "source": [
        "import seaborn as sns\n",
        "\n",
        "plt.figure(figsize=(10, 6))\n",
        "sns.scatterplot(data=df, x='Price(Dollar)', y='Number of  reviews', alpha=0.5)\n",
        "plt.title('Price vs. Number of Reviews')\n",
        "plt.xlabel('Price (Dollar)')\n",
        "plt.ylabel('Number of Reviews')\n",
        "plt.grid(True)\n",
        "plt.show()\n",
        "\n",
        "plt.figure(figsize=(10, 6))\n",
        "sns.regplot(data=df, x='Price(Dollar)', y='Number of  reviews', scatter_kws={'alpha':0.5})\n",
        "plt.title('Price vs. Number of Reviews with Regression Line')\n",
        "plt.xlabel('Price (Dollar)')\n",
        "plt.ylabel('Number of Reviews')\n",
        "plt.grid(True)\n",
        "plt.show()"
      ]
    },
    {
      "cell_type": "markdown",
      "metadata": {
        "id": "1yNkFihsZxo8"
      },
      "source": [
        "\n",
        "\n",
        "> While there's a weak tendency for cheaper products to have more reviews on\n",
        "average, the relationship is not a strong or simple one. Many other factors contribute to how many reviews a product receives.\n",
        "\n"
      ]
    },
    {
      "cell_type": "code",
      "execution_count": null,
      "metadata": {
        "colab": {
          "base_uri": "https://localhost:8080/",
          "height": 1000
        },
        "id": "AL4dZXhIVQbF",
        "outputId": "076af631-a9ed-49f4-f4a5-b2edf3f7067e"
      },
      "outputs": [],
      "source": [
        "# Analyzing category trends over time\n",
        "df['Order YearMonth'] = df['Order Date'].dt.to_period('M')\n",
        "\n",
        "monthly_category_sales = df.groupby(['Order YearMonth', 'Product Category'])['Price(Dollar)'].sum().reset_index()\n",
        "\n",
        "monthly_category_sales_pivot = monthly_category_sales.pivot_table(\n",
        "    index='Order YearMonth',\n",
        "    columns='Product Category',\n",
        "    values='Price(Dollar)',\n",
        "    fill_value=0\n",
        ")\n",
        "\n",
        "display(monthly_category_sales_pivot.head())\n",
        "\n",
        "\n",
        "top_categories = category_performance.head(5)['Product Category'].tolist()\n",
        "\n",
        "plt.figure(figsize=(15, 8))\n",
        "for category in top_categories:\n",
        "    if category in monthly_category_sales_pivot.columns:\n",
        "        plt.plot(monthly_category_sales_pivot.index.astype(str), monthly_category_sales_pivot[category], label=category)\n",
        "\n",
        "plt.title('Monthly Sales Trend for Top Product Categories')\n",
        "plt.xlabel('Month-Year')\n",
        "plt.ylabel('Total Sales (Dollar)')\n",
        "plt.xticks(rotation=45, ha='right')\n",
        "plt.legend()\n",
        "plt.grid(True)\n",
        "plt.tight_layout()\n",
        "plt.show()\n"
      ]
    },
    {
      "cell_type": "markdown",
      "metadata": {
        "id": "w4iuqyMDVyqt"
      },
      "source": [
        "**We can see that over the years men's shoes and men's clothing are getting new highs, increasing demand for these categories**"
      ]
    },
    {
      "cell_type": "code",
      "execution_count": null,
      "metadata": {
        "colab": {
          "base_uri": "https://localhost:8080/",
          "height": 318
        },
        "id": "_VvyTgSFWF_6",
        "outputId": "24c369b1-8296-49d9-f1c0-6bd737a62e41"
      },
      "outputs": [],
      "source": [
        "print(\"Top Categories by Total Sales and Average Reviews:\")\n",
        "display(category_performance)\n"
      ]
    },
    {
      "cell_type": "markdown",
      "metadata": {
        "id": "hrBWHWumbROy"
      },
      "source": [
        "\n",
        "> Analysis of Dominant and Growing Categories:\n",
        "\n",
        "\n",
        " 1. Based on the analysis, 'Men Shoes' and 'Men Clothes' are the dominant categories in terms of total sales and show a clear upward trend, indicating strong growth.\n",
        " 2. Possible reasons for their dominance and growth could include: consistent demand for apparel and footwear, fashion trends, effective marketing strategies, or a wider variety of products available in these categories.\n",
        "\n",
        " 3. Categories with relatively high average reviews but lower total sales (e.g., 'Toys', 'Car Accessories', 'Audio Video') might have highly satisfied customers but a smaller market size or less visibility.\n",
        " 4. Conversely, categories with high total sales but relatively lower average reviews could indicate areas for product improvement or managing customer expectations."
      ]
    },
    {
      "cell_type": "code",
      "execution_count": null,
      "metadata": {
        "id": "9kv8ihtsbkHf"
      },
      "outputs": [],
      "source": []
    },
    {
      "cell_type": "code",
      "execution_count": null,
      "metadata": {
        "colab": {
          "base_uri": "https://localhost:8080/",
          "height": 272
        },
        "id": "07030600",
        "outputId": "82ed056b-0643-45e4-c849-ea286e8e2a58"
      },
      "outputs": [],
      "source": [
        "daily_sales = daily_sales.set_index('Order Date')\n",
        "weekly_sales = daily_sales.resample('W')['Price(Dollar)'].sum()\n",
        "weekly_sales = weekly_sales.fillna(0)\n",
        "display(weekly_sales.head())"
      ]
    },
    {
      "cell_type": "code",
      "execution_count": null,
      "metadata": {
        "colab": {
          "base_uri": "https://localhost:8080/",
          "height": 272
        },
        "id": "JsJWg3sIgfQl",
        "outputId": "45543a18-ce38-4646-ddf4-4b7a59b8e5d1"
      },
      "outputs": [],
      "source": [
        "weekly_sales = daily_sales.resample('W')['Price(Dollar)'].sum()\n",
        "weekly_sales = weekly_sales.fillna(0)\n",
        "display(weekly_sales.head())"
      ]
    },
    {
      "cell_type": "code",
      "execution_count": null,
      "metadata": {
        "colab": {
          "base_uri": "https://localhost:8080/"
        },
        "id": "bb85735e",
        "outputId": "890f882c-69f9-4764-b48c-af1b0c8c50c9"
      },
      "outputs": [],
      "source": [
        "from prophet import Prophet\n",
        "\n",
        "prophet_df = weekly_sales.reset_index()\n",
        "prophet_df.columns = ['ds', 'y']\n",
        "\n",
        "model = Prophet()\n",
        "\n",
        "model.fit(prophet_df)"
      ]
    },
    {
      "cell_type": "code",
      "execution_count": null,
      "metadata": {
        "colab": {
          "base_uri": "https://localhost:8080/",
          "height": 206
        },
        "id": "4f9dc309",
        "outputId": "f5acda12-f95b-41ab-9b4b-482503a3edb1"
      },
      "outputs": [],
      "source": [
        "future = model.make_future_dataframe(periods=52, freq='W')\n",
        "forecast = model.predict(future)\n",
        "display(forecast[['ds', 'yhat', 'yhat_lower', 'yhat_upper']].head())"
      ]
    },
    {
      "cell_type": "code",
      "execution_count": null,
      "metadata": {
        "colab": {
          "base_uri": "https://localhost:8080/",
          "height": 1000
        },
        "id": "3d341f97",
        "outputId": "a16e53b9-9d94-4272-e564-a8b222a0c1f2"
      },
      "outputs": [],
      "source": [
        "fig1 = model.plot(forecast)\n",
        "plt.title('Weekly Sales Forecast')\n",
        "plt.xlabel('Date')\n",
        "plt.ylabel('Total Sales (Dollar)')\n",
        "plt.show()\n",
        "\n",
        "fig2 = model.plot_components(forecast)\n",
        "plt.show()"
      ]
    },
    {
      "cell_type": "markdown",
      "metadata": {
        "id": "d65d6134"
      },
      "source": [
        "## Observations from the Weekly Sales Forecast\n",
        "\n",
        "The generated plots provide valuable insights into the weekly sales forecast:\n",
        "\n",
        "1.  **Weekly Sales Forecast Plot:**\n",
        "    *   The black dots represent the actual historical weekly sales data.\n",
        "    *   The blue line shows the Prophet model's forecast, extending into the future.\n",
        "    *   The shaded blue area represents the uncertainty interval (the range within which the actual sales are expected to fall with a certain probability).\n",
        "    *   We can observe how well the model captures the historical trends and seasonality. The forecast line generally follows the pattern of the historical data and extends this pattern into the future.\n",
        "    *   The uncertainty interval widens as we forecast further into the future, which is expected as the model's confidence decreases over longer time horizons.\n",
        "\n",
        "2.  **Forecast Components Plot:**\n",
        "    *   **Trend:** This plot shows the overall long-term trend in weekly sales. We can see a clear upward trend over the years, indicating increasing sales over time.\n",
        "    *   **Yearly Seasonality:** This plot reveals the yearly seasonal pattern in sales. We can observe recurring peaks and troughs within each year, suggesting that sales are influenced by the time of year. The plot shows a strong peak towards the end of the year (likely due to holiday seasons) and lower sales in the earlier months.\n"
      ]
    },
    {
      "cell_type": "code",
      "execution_count": null,
      "metadata": {
        "id": "2YF1VY3rnZH7"
      },
      "outputs": [],
      "source": []
    },
    {
      "cell_type": "code",
      "execution_count": null,
      "metadata": {
        "colab": {
          "base_uri": "https://localhost:8080/"
        },
        "id": "6b979d3c",
        "outputId": "f95ef29a-89e0-42da-b699-531adf34b8d8"
      },
      "outputs": [],
      "source": [
        "X = df_features.copy()\n",
        "y = df['Price(Dollar)'].copy()\n",
        "\n",
        "print(\"Missing values in features (X):\\n\", X.isnull().sum())\n",
        "print(\"\\nMissing values in target (y):\\n\", y.isnull().sum())\n"
      ]
    },
    {
      "cell_type": "code",
      "execution_count": null,
      "metadata": {
        "colab": {
          "base_uri": "https://localhost:8080/"
        },
        "id": "eae1edb5",
        "outputId": "6e343925-1a25-4301-a6e2-2c3f0c59004c"
      },
      "outputs": [],
      "source": [
        "from sklearn.model_selection import train_test_split\n",
        "\n",
        "X_train, X_test, y_train, y_test = train_test_split(X, y, test_size=0.2, random_state=42)\n",
        "\n",
        "print(\"Shape of X_train:\", X_train.shape)\n",
        "print(\"Shape of X_test:\", X_test.shape)\n",
        "print(\"Shape of y_train:\", y_train.shape)\n",
        "print(\"Shape of y_test:\", y_test.shape)"
      ]
    },
    {
      "cell_type": "code",
      "execution_count": null,
      "metadata": {
        "colab": {
          "base_uri": "https://localhost:8080/",
          "height": 80
        },
        "id": "a282f97f",
        "outputId": "e2b48eaa-b07a-4492-c370-44eb405f9337"
      },
      "outputs": [],
      "source": [
        "from sklearn.linear_model import LinearRegression\n",
        "\n",
        "model = LinearRegression()\n",
        "model.fit(X_train, y_train)"
      ]
    },
    {
      "cell_type": "code",
      "execution_count": null,
      "metadata": {
        "colab": {
          "base_uri": "https://localhost:8080/"
        },
        "id": "0cd73c5d",
        "outputId": "a8e565ab-27ee-47dd-ea16-ca5ee67378d2"
      },
      "outputs": [],
      "source": [
        "from sklearn.metrics import mean_absolute_error, mean_squared_error, r2_score\n",
        "\n",
        "y_pred = model.predict(X_test)\n",
        "\n",
        "mae = mean_absolute_error(y_test, y_pred)\n",
        "mse = mean_squared_error(y_test, y_pred)\n",
        "r2 = r2_score(y_test, y_pred)\n",
        "\n",
        "print(f\"Mean Absolute Error (MAE): {mae}\")\n",
        "print(f\"Mean Squared Error (MSE): {mse}\")\n",
        "print(f\"R-squared (R2): {r2}\")"
      ]
    },
    {
      "cell_type": "code",
      "execution_count": null,
      "metadata": {
        "colab": {
          "base_uri": "https://localhost:8080/"
        },
        "id": "113051c6",
        "outputId": "9f5b852e-1581-4a32-f845-f6cad866325f"
      },
      "outputs": [],
      "source": [
        "import numpy as np\n",
        "\n",
        "new_product_data = {\n",
        "    'Price(Dollar)': [50],\n",
        "    'Number of  reviews': [100],\n",
        "    'Product Category_Audio Video': [False],\n",
        "    'Product Category_Camera': [False],\n",
        "    'Product Category_Car Accessories': [False],\n",
        "    'Product Category_Laptop': [False],\n",
        "    'Product Category_Men Clothes': [True],\n",
        "    'Product Category_Men Shoes': [False],\n",
        "    'Product Category_Mobile & Accessories': [False],\n",
        "    'Product Category_Toys': [False],\n",
        "    'Shipment Location_Bangladesh': [True],\n",
        "    'Price Bin_0-20': [False],\n",
        "    'Price Bin_21-50': [True],\n",
        "    'Price Bin_51-100': [False],\n",
        "    'Price Bin_101-200': [False],\n",
        "    'Price Bin_201-500': [False],\n",
        "    'Price Bin_501-1000': [False],\n",
        "    'Price Bin_1000+': [False]\n",
        "}\n",
        "\n",
        "\n",
        "new_product_df = pd.DataFrame(new_product_data)\n",
        "\n",
        "\n",
        "missing_cols = set(X_train.columns) - set(new_product_df.columns)\n",
        "for c in missing_cols:\n",
        "    new_product_df[c] = False  # or 0, depending on how get_dummies handles missing categories\n",
        "\n",
        "new_product_df = new_product_df[X_train.columns]\n",
        "\n",
        "\n",
        "predicted_price = model.predict(new_product_df)\n",
        "\n",
        "print(f\"Predicted Price for the new product: ${predicted_price[0]:.2f}\")"
      ]
    },
    {
      "cell_type": "code",
      "execution_count": null,
      "metadata": {
        "colab": {
          "base_uri": "https://localhost:8080/",
          "height": 685
        },
        "id": "cf53ee28",
        "outputId": "096fff4c-ac2d-4b7b-81c6-562aa5d1e1d9"
      },
      "outputs": [],
      "source": [
        "coefficients = model.coef_\n",
        "feature_importance = pd.Series(coefficients, index=X_train.columns)\n",
        "\n",
        "sorted_feature_importance = feature_importance.abs().sort_values(ascending=False)\n",
        "\n",
        "print(\"Feature Importance (absolute value):\\n\")\n",
        "display(feature_importance[sorted_feature_importance.index])"
      ]
    },
    {
      "cell_type": "markdown",
      "metadata": {
        "id": "rjIhzj7qrY-h"
      },
      "source": [
        "# Observations / Findings\n",
        "*   The feature importance analysis revealed that 'Price' was overwhelmingly the most influential factor in predicting the outcome, with an importance score of 1.0.\n",
        "\n",
        "*   The Linear Regression model achieved an R-squared score of 1.0 on the test data, along with extremely low Mean Absolute Error (7.51e-17) and Mean Squared Error (1.08e-31). This indicates a perfect fit to the data.\n",
        "\n",
        "*   Other features, such as certain 'Product Category' and 'Price Bin' dummy variables, showed some level of influence, although significantly less than 'Price'.\n",
        "\n",
        "\n"
      ]
    },
    {
      "cell_type": "markdown",
      "metadata": {
        "id": "5ec739db"
      },
      "source": [
        "## Summary\n",
        "\n",
        "\n",
        "\n",
        "\n",
        "\n",
        "\n"
      ]
    },
    {
      "cell_type": "markdown",
      "metadata": {
        "id": "1bbd3466"
      },
      "source": [
        "\n",
        "\n",
        "\n",
        "\n",
        "\n",
        "\n",
        "*   **Sales Trends:** There is a clear upward trend in overall sales from 2019 to 2022, with noticeable seasonal peaks, likely related to holiday seasons.\n",
        "*   **Category Performance:** 'Men Shoes' and 'Men Clothes' are the dominant product categories in terms of total sales and exhibit strong growth over time. Categories like 'Toys', 'Car Accessories', and 'Audio Video' have relatively higher average reviews but lower total sales, suggesting potential for targeted marketing or market size limitations.\n",
        "*   **Price and Reviews Relationship:** While there is a weak tendency for cheaper products to have more reviews, the relationship between price and the number of reviews is not strong, indicating other factors are more influential.\n",
        "*   **Sales Forecasting:** The Prophet model effectively captured the historical weekly sales trends and seasonality, providing a forecast that shows continued growth and a strong yearly pattern.\n",
        "*   **Price Prediction:** The Linear Regression model achieved a perfect R-squared score of 1.0 and extremely low error metrics. The feature importance analysis revealed that the 'Price' feature itself was overwhelmingly the most important predictor in this specific model setup."
      ]
    }
  ],
  "metadata": {
    "colab": {
      "provenance": []
    },
    "kernelspec": {
      "display_name": "Python 3",
      "name": "python3"
    },
    "language_info": {
      "codemirror_mode": {
        "name": "ipython",
        "version": 3
      },
      "file_extension": ".py",
      "mimetype": "text/x-python",
      "name": "python",
      "nbconvert_exporter": "python",
      "pygments_lexer": "ipython3",
      "version": "3.13.7"
    }
  },
  "nbformat": 4,
  "nbformat_minor": 0
}
